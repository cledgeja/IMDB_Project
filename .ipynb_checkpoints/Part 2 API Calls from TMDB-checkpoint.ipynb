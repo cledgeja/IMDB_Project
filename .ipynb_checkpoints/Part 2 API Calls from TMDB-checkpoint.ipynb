{
 "cells": [
  {
   "cell_type": "code",
   "execution_count": 6,
   "id": "4d674590",
   "metadata": {},
   "outputs": [],
   "source": [
    "import numpy as np\n",
    "import pandas as pd\n",
    "import matplotlib.pyplot as plt\n",
    "import os, json, math, time\n",
    "import regex as re\n",
    "import tmdbsimple as tmdb\n",
    "from tqdm.notebook import tqdm_notebook"
   ]
  },
  {
   "cell_type": "code",
   "execution_count": 2,
   "id": "89cbdd9f",
   "metadata": {},
   "outputs": [],
   "source": [
    "KeyPath = %env CODINGDOJO\n",
    "with open(KeyPath) as f: \n",
    "    login = json.load(f)\n",
    "# other environment variables\n",
    "data_file = 'tmdb_results_combined.csv.gz'\n",
    "data_dir = 'data/'\n",
    "data_basics = 'title_basics.csv.gz'\n",
    "years_requested = [2000,2001]\n",
    "tmdb.API_KEY = login['tmdb-api-key-v3']\n",
    "# if all years ran do not retrive any results, no need to recompile final merged csv\n",
    "zero_data = True"
   ]
  },
  {
   "cell_type": "code",
   "execution_count": 3,
   "id": "32ef0cab",
   "metadata": {},
   "outputs": [],
   "source": [
    "def get_movie_with_rating(movie_id):\n",
    "    try:\n",
    "        movie = tmdb.Movies(movie_id)\n",
    "        movie_info = movie.info()\n",
    "        releases = movie.releases()\n",
    "        x=0\n",
    "        for c in releases['countries']:\n",
    "            if c['iso_3166_1'] == 'US':\n",
    "                x+=1\n",
    "                movie_info['certification'] = c['certification']\n",
    "        if x == 0:\n",
    "            movie_info['certification']=\"\"            \n",
    "    except:\n",
    "        movie_info = {'budget':\"\",'revenue':\"\",'certification':\"\"}\n",
    "    json_req = { movie_id :[{'budget':movie_info['budget'],\n",
    "                             'revenue':movie_info['revenue'],\n",
    "                             'certification':movie_info['certification']}]}\n",
    "    return json_req"
   ]
  },
  {
   "cell_type": "code",
   "execution_count": 4,
   "id": "9f23be57",
   "metadata": {},
   "outputs": [
    {
     "data": {
      "application/vnd.jupyter.widget-view+json": {
       "model_id": "772c1ddc5bd04591ac59ceec0093b071",
       "version_major": 2,
       "version_minor": 0
      },
      "text/plain": [
       "YEARS:   0%|          | 0/2 [00:00<?, ?it/s]"
      ]
     },
     "metadata": {},
     "output_type": "display_data"
    },
    {
     "data": {
      "text/plain": [
       "False"
      ]
     },
     "metadata": {},
     "output_type": "display_data"
    },
    {
     "data": {
      "application/vnd.jupyter.widget-view+json": {
       "model_id": "59d805d861e740b38c97a05442be133e",
       "version_major": 2,
       "version_minor": 0
      },
      "text/plain": [
       "Movies from 2000:   0%|          | 0/1408 [00:00<?, ?it/s]"
      ]
     },
     "metadata": {},
     "output_type": "display_data"
    },
    {
     "data": {
      "text/plain": [
       "False"
      ]
     },
     "metadata": {},
     "output_type": "display_data"
    },
    {
     "data": {
      "application/vnd.jupyter.widget-view+json": {
       "model_id": "0152e003e002448a9ba0a16b5e02a70d",
       "version_major": 2,
       "version_minor": 0
      },
      "text/plain": [
       "Movies from 2001:   0%|          | 0/1526 [00:00<?, ?it/s]"
      ]
     },
     "metadata": {},
     "output_type": "display_data"
    },
    {
     "name": "stdout",
     "output_type": "stream",
     "text": [
      "Wall time: 21min 8s\n"
     ]
    }
   ],
   "source": [
    "%%time\n",
    "for YEAR in tqdm_notebook(years_requested,desc='YEARS',position=0):\n",
    "    JSON_FILE = f'{data_dir}tmdb_api_results_{YEAR}.json'\n",
    "    # Check if file exists\n",
    "    file_exists = os.path.isfile(JSON_FILE)\n",
    "    display(file_exists)\n",
    "    # If it does not exist: create it\n",
    "    if file_exists == False:\n",
    "    # create an empty dict if no file exists.\n",
    "        file_data={}\n",
    "    else:\n",
    "        #will keep file_data open as a dict variable\n",
    "        #so we do not have to read and write, just truncate and dump after \n",
    "        #each iteration of the API call \n",
    "        with open(JSON_FILE,'r+') as file:\n",
    "        # load existing data into a dict.\n",
    "            file_data = json.load(file)\n",
    "            file.close()\n",
    "\n",
    "\n",
    "    #get complete list of movie_ids from the basics file for corresponding year \n",
    "    movie_ids = pd.read_csv(data_dir+data_basics)[['tconst','startYear']]\n",
    "    movie_ids = [*movie_ids['tconst'].loc[movie_ids['startYear']==YEAR]]\n",
    "\n",
    "    # filter out any ids that are already in file_data\n",
    "    #possible if there are interuptions when extracting data from API\n",
    "    movie_ids_to_get = [x for x in movie_ids if x not in [*file_data.keys()]]\n",
    "    #movie_ids_to_get = [x for x in movie_ids if x in ['tt0848228','tt0332280']]\n",
    "    #Get index and movie id from list\n",
    "    # INNER Loop\n",
    "    for movie_id in tqdm_notebook(movie_ids_to_get,\n",
    "                                  desc=f'Movies from {YEAR}',\n",
    "                                  position=1,\n",
    "                                  leave=True):\n",
    "        #print(movie_id)\n",
    "        json_req = get_movie_with_rating(movie_id)  #This uses your pre-made function\n",
    "        # Just rewrite entire file. could run again later to update/add results. \n",
    "        with open(JSON_FILE,'w') as file:\n",
    "            file_data.update(json_req)\n",
    "            json.dump(file_data,file)\n",
    "        # Short 20 ms sleep to prevent overwhelming server\n",
    "        time.sleep(0.02)\n",
    "    \n",
    "    #Already have all data in file_data, no need to read again. \n",
    "    #Each year should be saved as a separate .csv.gz file\n",
    "    #No need if 0 results\n",
    "    if len(movie_ids_to_get) > 0:\n",
    "        final_year_df = pd.DataFrame()\n",
    "        for x in file_data:\n",
    "            df = pd.read_json(json.dumps(file_data[x]))\n",
    "            df['tconst']=x\n",
    "            final_year_df = pd.concat([final_year_df,df])\n",
    "        final_year_df.to_csv(f\"{data_dir}final_tmdb_data_{YEAR}.csv.gz\", compression=\"gzip\", index=False)\n",
    "        zero_data = False\n",
    "\n",
    "        "
   ]
  },
  {
   "cell_type": "code",
   "execution_count": 5,
   "id": "12ab580a",
   "metadata": {},
   "outputs": [
    {
     "name": "stdout",
     "output_type": "stream",
     "text": [
      "Wall time: 327 ms\n"
     ]
    }
   ],
   "source": [
    "%%time\n",
    "#will always recreate the entire final data file because csv files really cannot be upserted\n",
    "# and appending can add duplicated rows\n",
    "\n",
    "#get a list of all csv.gz individual year files \n",
    "#https://stackoverflow.com/questions/2225564/get-a-filtered-list-of-files-in-a-directory\n",
    "\n",
    "files = [f for f in os.listdir(data_dir) if re.match(r'final_tmdb_data_.*\\.csv.gz', f)]\n",
    "\n",
    "#Save a final merged .csv.gz of all of the tmdb api data\n",
    "#write mode w+ will create file if not exists. a will append to end\n",
    "if zero_data == False:\n",
    "    cnt = 1\n",
    "    for x in files:\n",
    "        df= pd.read_csv(data_dir+x)\n",
    "        if cnt == 1:\n",
    "            df.to_csv(data_dir+data_file,mode='w+' ,compression=\"gzip\", index=False)\n",
    "            cnt+=1\n",
    "        elif cnt > 1:\n",
    "            df.to_csv(data_dir+data_file,mode='a' ,compression=\"gzip\", index=False,header=False)"
   ]
  }
 ],
 "metadata": {
  "kernelspec": {
   "display_name": "Python (dojo-env)",
   "language": "python",
   "name": "dojo-env"
  },
  "language_info": {
   "codemirror_mode": {
    "name": "ipython",
    "version": 3
   },
   "file_extension": ".py",
   "mimetype": "text/x-python",
   "name": "python",
   "nbconvert_exporter": "python",
   "pygments_lexer": "ipython3",
   "version": "3.8.13"
  },
  "toc": {
   "base_numbering": 1,
   "nav_menu": {},
   "number_sections": true,
   "sideBar": true,
   "skip_h1_title": false,
   "title_cell": "Table of Contents",
   "title_sidebar": "Contents",
   "toc_cell": false,
   "toc_position": {},
   "toc_section_display": true,
   "toc_window_display": false
  }
 },
 "nbformat": 4,
 "nbformat_minor": 5
}
