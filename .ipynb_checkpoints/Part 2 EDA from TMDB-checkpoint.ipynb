{
 "cells": [
  {
   "cell_type": "code",
   "execution_count": 122,
   "id": "4d674590",
   "metadata": {},
   "outputs": [],
   "source": [
    "import numpy as np\n",
    "import pandas as pd\n",
    "import matplotlib.pyplot as plt\n",
    "from matplotlib.ticker import FuncFormatter"
   ]
  },
  {
   "cell_type": "code",
   "execution_count": 123,
   "id": "0394d98f",
   "metadata": {},
   "outputs": [],
   "source": [
    "data_dir = 'data/'\n",
    "data_basics = 'title_basics.csv.gz'\n",
    "years_requested = [2000,2001]\n"
   ]
  },
  {
   "cell_type": "markdown",
   "id": "e3b26def",
   "metadata": {},
   "source": [
    "## Load in your csv.gz's of results for each year extracted.\n",
    "    * Concatenate the data into 1 dataframe for the remainder of the analysis."
   ]
  },
  {
   "cell_type": "code",
   "execution_count": 87,
   "id": "c39382db",
   "metadata": {},
   "outputs": [],
   "source": [
    "df = pd.DataFrame()\n",
    "for YEAR in years_requested:\n",
    "    dfa = pd.read_csv(f\"{data_dir}final_tmdb_data_{YEAR}.csv.gz\")\n",
    "    df = pd.concat([df,dfa])"
   ]
  },
  {
   "cell_type": "code",
   "execution_count": 88,
   "id": "340d22c9",
   "metadata": {},
   "outputs": [
    {
     "name": "stdout",
     "output_type": "stream",
     "text": [
      "<class 'pandas.core.frame.DataFrame'>\n",
      "Int64Index: 2934 entries, 0 to 1525\n",
      "Data columns (total 4 columns):\n",
      " #   Column         Non-Null Count  Dtype  \n",
      "---  ------         --------------  -----  \n",
      " 0   budget         2488 non-null   float64\n",
      " 1   revenue        2488 non-null   float64\n",
      " 2   certification  790 non-null    object \n",
      " 3   tconst         2934 non-null   object \n",
      "dtypes: float64(2), object(2)\n",
      "memory usage: 114.6+ KB\n"
     ]
    }
   ],
   "source": [
    "df.info()"
   ]
  },
  {
   "cell_type": "markdown",
   "id": "0c377c45",
   "metadata": {},
   "source": [
    "# Exploratory Data Analysis"
   ]
  },
  {
   "cell_type": "markdown",
   "id": "dc30511a",
   "metadata": {},
   "source": [
    "## Number of movies had at least some valid financial information (values > 0 for budget OR revenue)?\n",
    "\n",
    "    * 619 movies had at least 1 valid financial field where budget or revenue > 0.\n",
    "    * Exclude any movies with 0's for budget AND revenue for the remaining visualizations."
   ]
  },
  {
   "cell_type": "code",
   "execution_count": 89,
   "id": "a1a28f88",
   "metadata": {},
   "outputs": [],
   "source": [
    "df[['budget','revenue']] = df[['budget','revenue']].fillna(0)"
   ]
  },
  {
   "cell_type": "code",
   "execution_count": 90,
   "id": "e15e0a41",
   "metadata": {},
   "outputs": [
    {
     "name": "stdout",
     "output_type": "stream",
     "text": [
      "619 movies had at least 1 valid financial field where budget or revenue > 0.\n"
     ]
    }
   ],
   "source": [
    "filter_0_budget = df['budget'] > 0\n",
    "filter_0_revenue = df['revenue'] > 0\n",
    "\n",
    "movie_cnt = df.loc[filter_0_budget | filter_0_revenue].shape\n",
    "print(f'{movie_cnt[0]} movies had at least 1 valid financial field where budget or revenue > 0.')"
   ]
  },
  {
   "cell_type": "code",
   "execution_count": 91,
   "id": "20f2c4c8",
   "metadata": {},
   "outputs": [
    {
     "data": {
      "text/html": [
       "<div>\n",
       "<style scoped>\n",
       "    .dataframe tbody tr th:only-of-type {\n",
       "        vertical-align: middle;\n",
       "    }\n",
       "\n",
       "    .dataframe tbody tr th {\n",
       "        vertical-align: top;\n",
       "    }\n",
       "\n",
       "    .dataframe thead th {\n",
       "        text-align: right;\n",
       "    }\n",
       "</style>\n",
       "<table border=\"1\" class=\"dataframe\">\n",
       "  <thead>\n",
       "    <tr style=\"text-align: right;\">\n",
       "      <th></th>\n",
       "      <th>budget</th>\n",
       "      <th>revenue</th>\n",
       "      <th>certification</th>\n",
       "      <th>tconst</th>\n",
       "    </tr>\n",
       "  </thead>\n",
       "  <tbody>\n",
       "    <tr>\n",
       "      <th>5</th>\n",
       "      <td>150000.0</td>\n",
       "      <td>12854953.0</td>\n",
       "      <td>PG</td>\n",
       "      <td>tt0118694</td>\n",
       "    </tr>\n",
       "    <tr>\n",
       "      <th>14</th>\n",
       "      <td>120000.0</td>\n",
       "      <td>14904.0</td>\n",
       "      <td>R</td>\n",
       "      <td>tt0120467</td>\n",
       "    </tr>\n",
       "    <tr>\n",
       "      <th>16</th>\n",
       "      <td>45000000.0</td>\n",
       "      <td>224834564.0</td>\n",
       "      <td>G</td>\n",
       "      <td>tt0120630</td>\n",
       "    </tr>\n",
       "    <tr>\n",
       "      <th>19</th>\n",
       "      <td>8000000.0</td>\n",
       "      <td>105983.0</td>\n",
       "      <td>R</td>\n",
       "      <td>tt0120753</td>\n",
       "    </tr>\n",
       "    <tr>\n",
       "      <th>20</th>\n",
       "      <td>125000000.0</td>\n",
       "      <td>546388105.0</td>\n",
       "      <td>PG-13</td>\n",
       "      <td>tt0120755</td>\n",
       "    </tr>\n",
       "  </tbody>\n",
       "</table>\n",
       "</div>"
      ],
      "text/plain": [
       "         budget      revenue certification     tconst\n",
       "5      150000.0   12854953.0            PG  tt0118694\n",
       "14     120000.0      14904.0             R  tt0120467\n",
       "16   45000000.0  224834564.0             G  tt0120630\n",
       "19    8000000.0     105983.0             R  tt0120753\n",
       "20  125000000.0  546388105.0         PG-13  tt0120755"
      ]
     },
     "execution_count": 91,
     "metadata": {},
     "output_type": "execute_result"
    }
   ],
   "source": [
    "df = df.loc[filter_0_budget & filter_0_revenue]\n",
    "df.head()\n"
   ]
  },
  {
   "cell_type": "markdown",
   "id": "c1ce741a",
   "metadata": {},
   "source": [
    "## How many movies are there in each of the certification categories (G/PG/PG-13/R)?\n"
   ]
  },
  {
   "cell_type": "code",
   "execution_count": 120,
   "id": "63a9789f",
   "metadata": {},
   "outputs": [
    {
     "data": {
      "image/png": "[encoded data removed]",
      "text/plain": [
       "<Figure size 432x288 with 1 Axes>"
      ]
     },
     "metadata": {
      "needs_background": "light"
     },
     "output_type": "display_data"
    }
   ],
   "source": [
    "ax = df['certification'].value_counts().plot.bar(x='certification',rot=0)\n",
    "#https://stackoverflow.com/questions/25447700/annotate-bars-with-values-on-pandas-bar-plots\n",
    "for container in ax.containers:\n",
    "    ax.bar_label(container)\n",
    "ax.set_title('Number of Movies by Category');"
   ]
  },
  {
   "cell_type": "markdown",
   "id": "5f85c4cc",
   "metadata": {},
   "source": [
    "## What is the average revenue and budget per certification category?"
   ]
  },
  {
   "cell_type": "code",
   "execution_count": 149,
   "id": "c51c5074",
   "metadata": {},
   "outputs": [
    {
     "data": {
      "image/png": "[encoded data removed]",
      "text/plain": [
       "<Figure size 432x288 with 1 Axes>"
      ]
     },
     "metadata": {
      "needs_background": "light"
     },
     "output_type": "display_data"
    }
   ],
   "source": [
    "ax = df.groupby('certification').mean().plot.bar(rot=0)\n",
    "\n",
    "ax.set_title('Average Budget and Revenue by Category')\n",
    "#https://stackoverflow.com/questions/61330427/set-y-axis-in-millions\n",
    "def human_format(num, pos):\n",
    "    magnitude = 0\n",
    "    while abs(num) >= 1000:\n",
    "        magnitude += 1\n",
    "        num /= 1000.0\n",
    "    # add more suffixes if you need them\n",
    "    return '%.0f%s' % (num, ['', 'K', 'M', 'G', 'T', 'P'][magnitude])\n",
    "\n",
    "#https://stackoverflow.com/questions/70826659/matplotlib-bar-labels-with-new-f-string-format-style?noredirect=1&lq=1\n",
    "formatter = FuncFormatter(human_format)\n",
    "for container in ax.containers:\n",
    "    labels = [  f'{human_format(x,1)}' for x in container.datavalues ]\n",
    "    ax.bar_label(container,labels=labels)\n",
    "\n",
    "    \n",
    "ax.yaxis.set_major_formatter(formatter);\n"
   ]
  }
 ],
 "metadata": {
  "kernelspec": {
   "display_name": "Python (dojo-env)",
   "language": "python",
   "name": "dojo-env"
  },
  "language_info": {
   "codemirror_mode": {
    "name": "ipython",
    "version": 3
   },
   "file_extension": ".py",
   "mimetype": "text/x-python",
   "name": "python",
   "nbconvert_exporter": "python",
   "pygments_lexer": "ipython3",
   "version": "3.8.13"
  },
  "toc": {
   "base_numbering": 1,
   "nav_menu": {},
   "number_sections": true,
   "sideBar": true,
   "skip_h1_title": false,
   "title_cell": "Table of Contents",
   "title_sidebar": "Contents",
   "toc_cell": false,
   "toc_position": {},
   "toc_section_display": true,
   "toc_window_display": false
  }
 },
 "nbformat": 4,
 "nbformat_minor": 5
}
