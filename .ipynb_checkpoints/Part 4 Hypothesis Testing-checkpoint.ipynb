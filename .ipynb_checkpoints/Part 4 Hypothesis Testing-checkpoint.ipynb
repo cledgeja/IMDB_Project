{
 "cells": [
  {
   "cell_type": "code",
   "execution_count": 1,
   "id": "0d40a42d",
   "metadata": {},
   "outputs": [],
   "source": [
    "import numpy as np\n",
    "import pandas as pd\n",
    "import os, json, math, time, glob\n",
    "import regex as re\n",
    "\n",
    "import matplotlib.pyplot as plt\n",
    "from statsmodels.stats.multicomp import pairwise_tukeyhsd\n",
    "from matplotlib.ticker import FuncFormatter\n",
    "import seaborn as sns\n",
    "import scipy.stats as stats"
   ]
  },
  {
   "cell_type": "code",
   "execution_count": 2,
   "id": "ee2a2c41",
   "metadata": {},
   "outputs": [],
   "source": [
    "KeyPath = %env CODINGDOJO\n",
    "with open(KeyPath) as f: \n",
    "    login = json.load(f)\n",
    "# other environment variables\n",
    "data_file = 'tmdb_results_combined.csv.gz'\n",
    "data_dir = 'data/'\n",
    "data_basics = 'title_basics.csv.gz'"
   ]
  },
  {
   "cell_type": "markdown",
   "id": "1b120d87",
   "metadata": {},
   "source": [
    "# Useful Functions for formatting plots"
   ]
  },
  {
   "cell_type": "code",
   "execution_count": 3,
   "id": "6c0a3a12",
   "metadata": {},
   "outputs": [],
   "source": [
    "#https://stackoverflow.com/questions/61330427/set-y-axis-in-millions\n",
    "#https://stackoverflow.com/questions/70826659/matplotlib-bar-labels-with-new-f-string-format-style?noredirect=1&lq=1\n",
    "\n",
    "def human_format(num, pos):\n",
    "    magnitude = 0\n",
    "    while abs(num) >= 1000:\n",
    "        magnitude += 1\n",
    "        num /= 1000.0\n",
    "    # add more suffixes if you need them\n",
    "    return '%.0f%s' % (num, ['', 'K', 'M', 'B', 'T', 'P'][magnitude])\n",
    "\n",
    "formatter = FuncFormatter(human_format)\n",
    "\n"
   ]
  },
  {
   "cell_type": "markdown",
   "id": "4db93247",
   "metadata": {},
   "source": [
    "# Prepare Data"
   ]
  },
  {
   "cell_type": "markdown",
   "id": "0b074ff7",
   "metadata": {},
   "source": [
    "## Load Data"
   ]
  },
  {
   "cell_type": "markdown",
   "id": "a4b550d3",
   "metadata": {},
   "source": [
    "### tmdb data"
   ]
  },
  {
   "cell_type": "code",
   "execution_count": 4,
   "id": "c5ae8cc2",
   "metadata": {},
   "outputs": [
    {
     "data": {
      "text/plain": [
       "(69254, 26)"
      ]
     },
     "execution_count": 4,
     "metadata": {},
     "output_type": "execute_result"
    }
   ],
   "source": [
    "df_tmdb = pd.read_csv(data_dir+data_file)\n",
    "df_tmdb.shape"
   ]
  },
  {
   "cell_type": "code",
   "execution_count": 5,
   "id": "20ffe5d3",
   "metadata": {},
   "outputs": [
    {
     "data": {
      "text/plain": [
       "adult                     7197\n",
       "backdrop_path            30604\n",
       "belongs_to_collection    65332\n",
       "budget                    7197\n",
       "genres                    7197\n",
       "homepage                 53856\n",
       "id                        7197\n",
       "original_language         7197\n",
       "original_title            7197\n",
       "overview                  8586\n",
       "popularity                7197\n",
       "poster_path              12952\n",
       "production_companies      7197\n",
       "production_countries      7197\n",
       "release_date              8325\n",
       "revenue                   7197\n",
       "runtime                   7823\n",
       "spoken_languages          7197\n",
       "status                    7197\n",
       "tagline                  46231\n",
       "title                     7197\n",
       "video                     7197\n",
       "vote_average              7197\n",
       "vote_count                7197\n",
       "certification            53665\n",
       "dtype: int64"
      ]
     },
     "execution_count": 5,
     "metadata": {},
     "output_type": "execute_result"
    }
   ],
   "source": [
    "df_tmdb.isna().sum()[df_tmdb.isna().sum()>0]"
   ]
  },
  {
   "cell_type": "code",
   "execution_count": 6,
   "id": "4a763ebe",
   "metadata": {},
   "outputs": [
    {
     "data": {
      "text/plain": [
       "0"
      ]
     },
     "execution_count": 6,
     "metadata": {},
     "output_type": "execute_result"
    }
   ],
   "source": [
    "df_tmdb.duplicated().sum()"
   ]
  },
  {
   "cell_type": "markdown",
   "id": "f55ebff3",
   "metadata": {},
   "source": [
    "## Feature engineering"
   ]
  },
  {
   "cell_type": "markdown",
   "id": "02f5dc55",
   "metadata": {},
   "source": [
    "### tmdb "
   ]
  },
  {
   "cell_type": "markdown",
   "id": "7bd7f7e8",
   "metadata": {},
   "source": [
    "#### certification"
   ]
  },
  {
   "cell_type": "code",
   "execution_count": 7,
   "id": "212e8ba6",
   "metadata": {},
   "outputs": [
    {
     "data": {
      "text/plain": [
       "NaN                                53665\n",
       "R                                   6546\n",
       "NR                                  3476\n",
       "PG-13                               3416\n",
       "PG                                  1517\n",
       "G                                    461\n",
       "NC-17                                161\n",
       "Unrated                                5\n",
       "-                                      1\n",
       "UR                                     1\n",
       "Not Rated                              1\n",
       "ScreamFest Horror Film Festival        1\n",
       "R                                      1\n",
       "PG-13                                  1\n",
       "10                                     1\n",
       "Name: certification, dtype: int64"
      ]
     },
     "execution_count": 7,
     "metadata": {},
     "output_type": "execute_result"
    }
   ],
   "source": [
    "df_tmdb['certification'].value_counts(dropna=False)"
   ]
  },
  {
   "cell_type": "code",
   "execution_count": 8,
   "id": "6634501e",
   "metadata": {},
   "outputs": [
    {
     "data": {
      "text/plain": [
       "NaN                                53665\n",
       "R                                   6547\n",
       "NR                                  3476\n",
       "PG-13                               3417\n",
       "PG                                  1517\n",
       "G                                    461\n",
       "NC-17                                161\n",
       "Unrated                                5\n",
       "-                                      1\n",
       "UR                                     1\n",
       "Not Rated                              1\n",
       "ScreamFest Horror Film Festival        1\n",
       "10                                     1\n",
       "Name: certification, dtype: int64"
      ]
     },
     "execution_count": 8,
     "metadata": {},
     "output_type": "execute_result"
    }
   ],
   "source": [
    "# remove whitespace\n",
    "df_tmdb['certification'] = df_tmdb['certification'].str.strip()\n",
    "\n",
    "df_tmdb['certification'].value_counts(dropna=False)"
   ]
  },
  {
   "cell_type": "code",
   "execution_count": 9,
   "id": "b840ce3f",
   "metadata": {},
   "outputs": [
    {
     "data": {
      "text/plain": [
       "NaN      53668\n",
       "R         6547\n",
       "NR        3483\n",
       "PG-13     3417\n",
       "PG        1517\n",
       "G          461\n",
       "NC-17      161\n",
       "Name: certification, dtype: int64"
      ]
     },
     "execution_count": 9,
     "metadata": {},
     "output_type": "execute_result"
    }
   ],
   "source": [
    "#create dict to remap some values\n",
    "cert_remap = {'Unrated':'NR','-':np.nan,\n",
    "              'UR':'NR','Not Rated':'NR','ScreamFest Horror Film Festival':np.nan,'10':np.nan}\n",
    "df_tmdb['certification'].replace(cert_remap,inplace=True)\n",
    "df_tmdb['certification'].value_counts(dropna=False)"
   ]
  },
  {
   "cell_type": "markdown",
   "id": "4103ec6a",
   "metadata": {},
   "source": [
    "#### Production_companies"
   ]
  },
  {
   "cell_type": "code",
   "execution_count": 10,
   "id": "dffbe9f8",
   "metadata": {},
   "outputs": [
    {
     "data": {
      "text/plain": [
       "0        [{'id': 60, 'logo_path': '/2eqFolQI0NLL7ExZts5...\n",
       "1        [{'id': 925, 'logo_path': '/dIb9hjXNOkgxu4kBWd...\n",
       "2                                                      NaN\n",
       "3                                                       []\n",
       "4                                                      NaN\n",
       "                               ...                        \n",
       "69249                                                  NaN\n",
       "69250    [{'id': 109533, 'logo_path': '/xtQJYJg54jp5QVS...\n",
       "69251    [{'id': 13238, 'logo_path': '/kDNZz8imH866Mezx...\n",
       "69252                                                  NaN\n",
       "69253                                                   []\n",
       "Name: production_companies, Length: 69254, dtype: object"
      ]
     },
     "execution_count": 10,
     "metadata": {},
     "output_type": "execute_result"
    }
   ],
   "source": [
    "df_tmdb['production_companies']"
   ]
  },
  {
   "cell_type": "markdown",
   "id": "9edc96a6",
   "metadata": {},
   "source": [
    "* create seperate dataframe from production companies\n",
    "    * may want to filter on US companies etc"
   ]
  },
  {
   "cell_type": "code",
   "execution_count": 11,
   "id": "1f518b8d",
   "metadata": {},
   "outputs": [
    {
     "name": "stdout",
     "output_type": "stream",
     "text": [
      "Wall time: 3min 42s\n"
     ]
    }
   ],
   "source": [
    "%%time\n",
    "df_production_companies = pd.DataFrame()\n",
    "for index, row in df_tmdb[['imdb_id','production_companies']].iterrows():\n",
    "    try:\n",
    "        df = pd.json_normalize(eval(row['production_companies']))#['name'].values.flatten().tolist()\n",
    "        df['imdb_id'] = row['imdb_id']\n",
    "        df_production_companies = pd.concat([df_production_companies,df],axis=0,ignore_index=True)\n",
    "    except:\n",
    "        pass\n",
    "\n",
    "    "
   ]
  },
  {
   "cell_type": "code",
   "execution_count": 13,
   "id": "40ef1851",
   "metadata": {},
   "outputs": [
    {
     "data": {
      "text/plain": [
       "Warner Bros. Pictures           390\n",
       "Universal Pictures              370\n",
       "Columbia Pictures               272\n",
       "Lionsgate                       253\n",
       "Paramount                       227\n",
       "                               ... \n",
       "Samuel Goldwyn Films             32\n",
       "Myriad Pictures                  31\n",
       "Duplass Brothers Productions     31\n",
       "Likely Story                     31\n",
       "Alcon Entertainment              31\n",
       "Name: name, Length: 89, dtype: int64"
      ]
     },
     "execution_count": 13,
     "metadata": {},
     "output_type": "execute_result"
    }
   ],
   "source": [
    "df_production_companies[df_production_companies['origin_country'] == 'US']['name'].value_counts(\n",
    ")[df_production_companies[df_production_companies['origin_country'] == 'US']['name'].value_counts()>30]"
   ]
  },
  {
   "cell_type": "code",
   "execution_count": 14,
   "id": "7766325e",
   "metadata": {},
   "outputs": [
    {
     "name": "stdout",
     "output_type": "stream",
     "text": [
      "Wall time: 58.2 s\n"
     ]
    }
   ],
   "source": [
    "%%time\n",
    "#extract just the company names from the bad formatted json string\n",
    "df_tmdb['production_companies'] = df_tmdb['production_companies'].fillna('[{}]').apply(lambda x: ''\n",
    "                                      if 'name' not in pd.json_normalize(eval(x)).columns else \n",
    "                                      pd.json_normalize(eval(x))['name'].values.flatten().tolist()\n",
    "                                     )"
   ]
  },
  {
   "cell_type": "code",
   "execution_count": 15,
   "id": "255e4454",
   "metadata": {},
   "outputs": [
    {
     "data": {
      "text/plain": [
       "0        [United Artists, Sullivan Street Productions, ...\n",
       "1        [Nu Image, Dimension Films, Martien Holdings A...\n",
       "2                                                         \n",
       "3                                                         \n",
       "4                                                         \n",
       "                               ...                        \n",
       "69249                                                     \n",
       "69250                   [Movie City Films, Picture Remedy]\n",
       "69251    [Unified Pictures, Vertical Entertainment, Art...\n",
       "69252                                                     \n",
       "69253                                                     \n",
       "Name: production_companies, Length: 69254, dtype: object"
      ]
     },
     "execution_count": 15,
     "metadata": {},
     "output_type": "execute_result"
    }
   ],
   "source": [
    "df_tmdb['production_companies']"
   ]
  },
  {
   "cell_type": "code",
   "execution_count": 16,
   "id": "020449e2",
   "metadata": {},
   "outputs": [
    {
     "data": {
      "text/plain": [
       "35528"
      ]
     },
     "metadata": {},
     "output_type": "display_data"
    },
    {
     "data": {
      "text/plain": [
       "2488"
      ]
     },
     "execution_count": 16,
     "metadata": {},
     "output_type": "execute_result"
    }
   ],
   "source": [
    "display(df_production_companies['name'].nunique())\n",
    "df_production_companies[df_production_companies['origin_country'] == 'US']['name'].nunique()"
   ]
  },
  {
   "cell_type": "markdown",
   "id": "0d744cb9",
   "metadata": {},
   "source": [
    "Not 100% sure if the main production company is listed first. There are 2,488 unique production companies listed for US origin_country. "
   ]
  },
  {
   "cell_type": "markdown",
   "id": "dc25880e",
   "metadata": {},
   "source": [
    "#### genres"
   ]
  },
  {
   "cell_type": "code",
   "execution_count": 17,
   "id": "2fd5d4be",
   "metadata": {},
   "outputs": [
    {
     "data": {
      "text/plain": [
       "0    [{'id': 35, 'name': 'Comedy'}, {'id': 10402, '...\n",
       "1             [{'id': 878, 'name': 'Science Fiction'}]\n",
       "2                                                  NaN\n",
       "3    [{'id': 18, 'name': 'Drama'}, {'id': 28, 'name...\n",
       "4                                                  NaN\n",
       "Name: genres, dtype: object"
      ]
     },
     "execution_count": 17,
     "metadata": {},
     "output_type": "execute_result"
    }
   ],
   "source": [
    "df_tmdb['genres'].head()"
   ]
  },
  {
   "cell_type": "code",
   "execution_count": 18,
   "id": "3340a800",
   "metadata": {},
   "outputs": [
    {
     "name": "stdout",
     "output_type": "stream",
     "text": [
      "Wall time: 59.1 s\n"
     ]
    }
   ],
   "source": [
    "%%time\n",
    "#extract just the genre name\n",
    "df_tmdb['genres'] = df_tmdb['genres'].fillna('[{}]').apply(lambda x: ''\n",
    "                                      if 'name' not in pd.json_normalize(eval(x)).columns else \n",
    "                                      pd.json_normalize(eval(x))['name'].values.flatten().tolist()\n",
    "                                     )"
   ]
  },
  {
   "cell_type": "code",
   "execution_count": 19,
   "id": "b0f9a015",
   "metadata": {},
   "outputs": [
    {
     "data": {
      "text/plain": [
       "0    [Comedy, Music, Romance]\n",
       "1           [Science Fiction]\n",
       "2                            \n",
       "3      [Drama, Action, Crime]\n",
       "4                            \n",
       "Name: genres, dtype: object"
      ]
     },
     "execution_count": 19,
     "metadata": {},
     "output_type": "execute_result"
    }
   ],
   "source": [
    "df_tmdb['genres'].head()"
   ]
  },
  {
   "cell_type": "code",
   "execution_count": 20,
   "id": "d559f710",
   "metadata": {},
   "outputs": [
    {
     "data": {
      "text/plain": [
       "19"
      ]
     },
     "metadata": {},
     "output_type": "display_data"
    },
    {
     "data": {
      "text/plain": [
       "{'Action',\n",
       " 'Adventure',\n",
       " 'Animation',\n",
       " 'Comedy',\n",
       " 'Crime',\n",
       " 'Documentary',\n",
       " 'Drama',\n",
       " 'Family',\n",
       " 'Fantasy',\n",
       " 'History',\n",
       " 'Horror',\n",
       " 'Music',\n",
       " 'Mystery',\n",
       " 'Romance',\n",
       " 'Science Fiction',\n",
       " 'TV Movie',\n",
       " 'Thriller',\n",
       " 'War',\n",
       " 'Western'}"
      ]
     },
     "execution_count": 20,
     "metadata": {},
     "output_type": "execute_result"
    }
   ],
   "source": [
    "#adding to a set will only keep unique values\n",
    "genres = set()\n",
    "for line in df_tmdb['genres']:\n",
    "    for genre in line:\n",
    "        genres.add(genre)\n",
    "display(len(genres))\n",
    "genres"
   ]
  },
  {
   "cell_type": "markdown",
   "id": "3ecd567b",
   "metadata": {},
   "source": [
    "#  Questions to Answer"
   ]
  },
  {
   "cell_type": "markdown",
   "id": "18409c46",
   "metadata": {},
   "source": [
    "#### Filters"
   ]
  },
  {
   "cell_type": "code",
   "execution_count": 21,
   "id": "41b8c057",
   "metadata": {},
   "outputs": [],
   "source": [
    "certification_null = df_tmdb['certification'].isna() == True\n",
    "revenue_generated = df_tmdb['revenue']>0 "
   ]
  },
  {
   "cell_type": "code",
   "execution_count": 22,
   "id": "70cde86f",
   "metadata": {},
   "outputs": [
    {
     "name": "stdout",
     "output_type": "stream",
     "text": [
      "<class 'pandas.core.frame.DataFrame'>\n",
      "RangeIndex: 5409 entries, 0 to 5408\n",
      "Data columns (total 27 columns):\n",
      " #   Column                 Non-Null Count  Dtype  \n",
      "---  ------                 --------------  -----  \n",
      " 0   index                  5409 non-null   int64  \n",
      " 1   adult                  5409 non-null   float64\n",
      " 2   backdrop_path          5281 non-null   object \n",
      " 3   belongs_to_collection  1136 non-null   object \n",
      " 4   budget                 5409 non-null   float64\n",
      " 5   genres                 5409 non-null   object \n",
      " 6   homepage               2804 non-null   object \n",
      " 7   id                     5409 non-null   float64\n",
      " 8   imdb_id                5409 non-null   object \n",
      " 9   original_language      5409 non-null   object \n",
      " 10  original_title         5409 non-null   object \n",
      " 11  overview               5408 non-null   object \n",
      " 12  popularity             5409 non-null   float64\n",
      " 13  poster_path            5395 non-null   object \n",
      " 14  production_companies   5409 non-null   object \n",
      " 15  production_countries   5409 non-null   object \n",
      " 16  release_date           5409 non-null   object \n",
      " 17  revenue                5409 non-null   float64\n",
      " 18  runtime                5408 non-null   float64\n",
      " 19  spoken_languages       5409 non-null   object \n",
      " 20  status                 5409 non-null   object \n",
      " 21  tagline                4612 non-null   object \n",
      " 22  title                  5409 non-null   object \n",
      " 23  video                  5409 non-null   float64\n",
      " 24  vote_average           5409 non-null   float64\n",
      " 25  vote_count             5409 non-null   float64\n",
      " 26  certification          5409 non-null   object \n",
      "dtypes: float64(9), int64(1), object(17)\n",
      "memory usage: 1.1+ MB\n"
     ]
    }
   ],
   "source": [
    "df_tmdb = df_tmdb[~certification_null & revenue_generated].reset_index()\n",
    "df_tmdb.info()"
   ]
  },
  {
   "cell_type": "markdown",
   "id": "f5ac7a1d",
   "metadata": {},
   "source": [
    "## Does the MPAA rating of a movie (G/PG/PG-13/R) affect how much revenue the movie generates?"
   ]
  },
  {
   "cell_type": "code",
   "execution_count": 23,
   "id": "2d486285",
   "metadata": {},
   "outputs": [
    {
     "data": {
      "image/png": "[encoded data removed]",
      "text/plain": [
       "<Figure size 576x432 with 1 Axes>"
      ]
     },
     "metadata": {
      "needs_background": "light"
     },
     "output_type": "display_data"
    }
   ],
   "source": [
    "fig,ax = plt.subplots(figsize=(8, 6))\n",
    "ax = sns.barplot(data=df_tmdb, x='certification',y='revenue',\n",
    "                 dodge=False,hue='certification',alpha=.7) \n",
    "ax.yaxis.set_major_formatter(formatter)\n",
    "#change_width(ax, .45)\n",
    "ax.set_xlabel(\"MPAA rating (certification)\");\n",
    "ax.set_ylabel(\"$ Average Revenue\");\n",
    "ax.set_title(\"Average Revenue by MPAA rating (certification)\",fontsize='xx-large');\n"
   ]
  },
  {
   "cell_type": "markdown",
   "id": "9abbb2c7",
   "metadata": {},
   "source": [
    "### Hypothesis"
   ]
  },
  {
   "cell_type": "markdown",
   "id": "67e4bfdd",
   "metadata": {},
   "source": [
    "**- $H_0$ (Null Hypothesis):** For movies, MPAA rating does not have a significant impact on average revenue \n",
    "\n",
    "**- $H_A$ (Alternative Hypothesis):** MPAA rating does have a significant impact on average revenue earned per movie\n",
    "\n",
    "**- significance level** of alpha = 0.05"
   ]
  },
  {
   "cell_type": "markdown",
   "id": "9b8173e4",
   "metadata": {},
   "source": [
    "### Analysis of Variance (ANOVA)"
   ]
  },
  {
   "cell_type": "code",
   "execution_count": 24,
   "id": "4506ff46",
   "metadata": {},
   "outputs": [
    {
     "data": {
      "text/plain": [
       "dict_keys(['PG', 'R', 'G', 'PG-13', 'NR', 'NC-17'])"
      ]
     },
     "execution_count": 24,
     "metadata": {},
     "output_type": "execute_result"
    }
   ],
   "source": [
    "## Create groups dictionary.\n",
    "groups = {}\n",
    "## Loop through all unique categories\n",
    "for i in df_tmdb['certification'].unique():\n",
    "    ## Get series for group and rename\n",
    "    data = df_tmdb.loc[df_tmdb['certification']==i,'revenue'].copy()\n",
    "    \n",
    "    # save into the dictionary\n",
    "    groups[i] = data\n",
    "groups.keys()"
   ]
  },
  {
   "cell_type": "markdown",
   "id": "76827922",
   "metadata": {},
   "source": [
    "#### Assumption of Normality"
   ]
  },
  {
   "cell_type": "code",
   "execution_count": 25,
   "id": "2e9ec81b",
   "metadata": {},
   "outputs": [
    {
     "data": {
      "text/html": [
       "<div>\n",
       "<style scoped>\n",
       "    .dataframe tbody tr th:only-of-type {\n",
       "        vertical-align: middle;\n",
       "    }\n",
       "\n",
       "    .dataframe tbody tr th {\n",
       "        vertical-align: top;\n",
       "    }\n",
       "\n",
       "    .dataframe thead th {\n",
       "        text-align: right;\n",
       "    }\n",
       "</style>\n",
       "<table border=\"1\" class=\"dataframe\">\n",
       "  <thead>\n",
       "    <tr style=\"text-align: right;\">\n",
       "      <th></th>\n",
       "      <th>n</th>\n",
       "      <th>p</th>\n",
       "      <th>test stat</th>\n",
       "      <th>sig</th>\n",
       "    </tr>\n",
       "  </thead>\n",
       "  <tbody>\n",
       "    <tr>\n",
       "      <th>PG</th>\n",
       "      <td>674.0</td>\n",
       "      <td>1.216840e-85</td>\n",
       "      <td>391.046952</td>\n",
       "      <td>True</td>\n",
       "    </tr>\n",
       "    <tr>\n",
       "      <th>R</th>\n",
       "      <td>2489.0</td>\n",
       "      <td>0.000000e+00</td>\n",
       "      <td>2217.730545</td>\n",
       "      <td>True</td>\n",
       "    </tr>\n",
       "    <tr>\n",
       "      <th>G</th>\n",
       "      <td>132.0</td>\n",
       "      <td>3.696032e-22</td>\n",
       "      <td>98.699225</td>\n",
       "      <td>True</td>\n",
       "    </tr>\n",
       "    <tr>\n",
       "      <th>PG-13</th>\n",
       "      <td>1808.0</td>\n",
       "      <td>0.000000e+00</td>\n",
       "      <td>1586.717375</td>\n",
       "      <td>True</td>\n",
       "    </tr>\n",
       "    <tr>\n",
       "      <th>NR</th>\n",
       "      <td>284.0</td>\n",
       "      <td>2.350799e-75</td>\n",
       "      <td>343.678254</td>\n",
       "      <td>True</td>\n",
       "    </tr>\n",
       "    <tr>\n",
       "      <th>NC-17</th>\n",
       "      <td>22.0</td>\n",
       "      <td>5.786287e-08</td>\n",
       "      <td>33.330380</td>\n",
       "      <td>True</td>\n",
       "    </tr>\n",
       "  </tbody>\n",
       "</table>\n",
       "</div>"
      ],
      "text/plain": [
       "            n             p    test stat   sig\n",
       "PG      674.0  1.216840e-85   391.046952  True\n",
       "R      2489.0  0.000000e+00  2217.730545  True\n",
       "G       132.0  3.696032e-22    98.699225  True\n",
       "PG-13  1808.0  0.000000e+00  1586.717375  True\n",
       "NR      284.0  2.350799e-75   343.678254  True\n",
       "NC-17    22.0  5.786287e-08    33.330380  True"
      ]
     },
     "execution_count": 25,
     "metadata": {},
     "output_type": "execute_result"
    }
   ],
   "source": [
    "## Running normal test on each group and confirming there are >20 in each group\n",
    "norm_results = {}\n",
    "for i, data in groups.items():\n",
    "    stat, p = stats.normaltest(data)\n",
    "    ## save the p val, test statistic, and the size of the group\n",
    "    norm_results[i] = {'n': len(data),\n",
    "                             'p':p,\n",
    "                             'test stat':stat,}\n",
    "## convert to a dataframe\n",
    "norm_results_df = pd.DataFrame(norm_results).T\n",
    "### checking sig with pandas \n",
    "norm_results_df['sig'] = norm_results_df['p'] < .05 \n",
    "norm_results_df"
   ]
  },
  {
   "cell_type": "markdown",
   "id": "04941f0b",
   "metadata": {},
   "source": [
    "***each region has a normal distribution***"
   ]
  },
  {
   "cell_type": "markdown",
   "id": "1d76b638",
   "metadata": {},
   "source": [
    "#### outliers"
   ]
  },
  {
   "cell_type": "code",
   "execution_count": 26,
   "id": "e6a913eb",
   "metadata": {},
   "outputs": [
    {
     "name": "stdout",
     "output_type": "stream",
     "text": [
      "There were 21 outliers in the PG group.\n",
      "PG : 653\n",
      "There were 57 outliers in the R group.\n",
      "R : 2432\n",
      "There were 4 outliers in the G group.\n",
      "G : 128\n",
      "There were 43 outliers in the PG-13 group.\n",
      "PG-13 : 1765\n",
      "There were 6 outliers in the NR group.\n",
      "NR : 278\n",
      "There were 1 outliers in the NC-17 group.\n",
      "NC-17 : 21\n"
     ]
    }
   ],
   "source": [
    "# Drop outliers > 3 std deviations\n",
    "for x in groups.keys():\n",
    "    group_x = groups[x]\n",
    "    outliers = np.abs(stats.zscore(group_x)) > 3   \n",
    "    print(f\"There were {outliers.sum()} outliers in the {x} group.\")\n",
    "    groups[x] = group_x[~outliers]\n",
    "    print(x,':',len(groups[x]))"
   ]
  },
  {
   "cell_type": "markdown",
   "id": "58b00839",
   "metadata": {},
   "source": [
    "#### Testing Assumption of Equal Variance"
   ]
  },
  {
   "cell_type": "code",
   "execution_count": 27,
   "id": "33fb4dee",
   "metadata": {},
   "outputs": [
    {
     "data": {
      "text/plain": [
       "LeveneResult(statistic=110.88671861787302, pvalue=1.0104664486016523e-111)"
      ]
     },
     "execution_count": 27,
     "metadata": {},
     "output_type": "execute_result"
    }
   ],
   "source": [
    "stats.levene(*groups.values())"
   ]
  },
  {
   "cell_type": "markdown",
   "id": "a0078fac",
   "metadata": {},
   "source": [
    "***did not met the assumption of equal variance.*** For One-way ANOVA, will use Kruskal-Wallis stats.kruskal\n",
    "\n"
   ]
  },
  {
   "cell_type": "markdown",
   "id": "3d5b996b",
   "metadata": {},
   "source": [
    "#### Perform test"
   ]
  },
  {
   "cell_type": "code",
   "execution_count": 28,
   "id": "bbd20a58",
   "metadata": {},
   "outputs": [
    {
     "data": {
      "text/plain": [
       "KruskalResult(statistic=847.6427164633214, pvalue=5.693732033330828e-181)"
      ]
     },
     "execution_count": 28,
     "metadata": {},
     "output_type": "execute_result"
    }
   ],
   "source": [
    "result = stats.kruskal( *groups.values())\n",
    "result"
   ]
  },
  {
   "cell_type": "markdown",
   "id": "04b76b6c",
   "metadata": {},
   "source": [
    "the p-value of 5.69e-181 for Kruskal-Wallis is well below alpha of .05. **Reject null hypotheses, there is a significant difference** in the revenue earned per film by MPAA rating"
   ]
  },
  {
   "cell_type": "markdown",
   "id": "f6d960e3",
   "metadata": {},
   "source": [
    "## Tukey's Pairwise Multiple Comparison test"
   ]
  },
  {
   "cell_type": "code",
   "execution_count": 30,
   "id": "dcbd3f32",
   "metadata": {},
   "outputs": [
    {
     "data": {
      "text/html": [
       "<table class=\"simpletable\">\n",
       "<caption>Multiple Comparison of Means - Tukey HSD, FWER=0.05</caption>\n",
       "<tr>\n",
       "  <th>group1</th> <th>group2</th>    <th>meandiff</th>     <th>p-adj</th>      <th>lower</th>           <th>upper</th>     <th>reject</th>\n",
       "</tr>\n",
       "<tr>\n",
       "     <td>G</td>    <td>NC-17</td>  <td>-91161893.619</td> <td>0.0162</td> <td>-171815987.596</td>  <td>-10507799.6421</td>  <td>True</td> \n",
       "</tr>\n",
       "<tr>\n",
       "     <td>G</td>     <td>NR</td>   <td>-81633503.8237</td>   <td>0.0</td>  <td>-118225284.8987</td> <td>-45041722.7488</td>  <td>True</td> \n",
       "</tr>\n",
       "<tr>\n",
       "     <td>G</td>     <td>PG</td>    <td>28838551.1715</td> <td>0.1293</td>  <td>-4275464.9893</td>   <td>61952567.3324</td>  <td>False</td>\n",
       "</tr>\n",
       "<tr>\n",
       "     <td>G</td>    <td>PG-13</td>  <td>13859317.0079</td> <td>0.8068</td> <td>-17498504.3907</td>   <td>45217138.4065</td>  <td>False</td>\n",
       "</tr>\n",
       "<tr>\n",
       "     <td>G</td>      <td>R</td>    <td>-63370892.787</td>   <td>0.0</td>  <td>-94436591.6057</td>  <td>-32305193.9683</td>  <td>True</td> \n",
       "</tr>\n",
       "<tr>\n",
       "   <td>NC-17</td>   <td>NR</td>    <td>9528389.7953</td>  <td>0.9993</td> <td>-67998339.7604</td>   <td>87055119.351</td>   <td>False</td>\n",
       "</tr>\n",
       "<tr>\n",
       "   <td>NC-17</td>   <td>PG</td>   <td>120000444.7906</td> <td>0.0001</td>  <td>44053269.5984</td>  <td>195947619.9827</td>  <td>True</td> \n",
       "</tr>\n",
       "<tr>\n",
       "   <td>NC-17</td>  <td>PG-13</td>  <td>105021210.627</td>  <td>0.001</td>  <td>29823150.0388</td>  <td>180219271.2152</td>  <td>True</td> \n",
       "</tr>\n",
       "<tr>\n",
       "   <td>NC-17</td>    <td>R</td>    <td>27791000.832</td>  <td>0.8989</td>  <td>-47285713.244</td>  <td>102867714.9081</td>  <td>False</td>\n",
       "</tr>\n",
       "<tr>\n",
       "    <td>NR</td>     <td>PG</td>   <td>110472054.9953</td>  <td>-0.0</td>   <td>85939444.3177</td>  <td>135004665.6728</td>  <td>True</td> \n",
       "</tr>\n",
       "<tr>\n",
       "    <td>NR</td>    <td>PG-13</td>  <td>95492820.8317</td>  <td>-0.0</td>   <td>73387982.3744</td>   <td>117597659.289</td>  <td>True</td> \n",
       "</tr>\n",
       "<tr>\n",
       "    <td>NR</td>      <td>R</td>    <td>18262611.0367</td> <td>0.1561</td>  <td>-3425832.0483</td>   <td>39951054.1217</td>  <td>False</td>\n",
       "</tr>\n",
       "<tr>\n",
       "    <td>PG</td>    <td>PG-13</td> <td>-14979234.1636</td> <td>0.0712</td> <td>-30670107.5391</td>    <td>711639.2119</td>   <td>False</td>\n",
       "</tr>\n",
       "<tr>\n",
       "    <td>PG</td>      <td>R</td>   <td>-92209443.9585</td>  <td>-0.0</td>  <td>-107308059.3757</td> <td>-77110828.5414</td>  <td>True</td> \n",
       "</tr>\n",
       "<tr>\n",
       "   <td>PG-13</td>    <td>R</td>   <td>-77230209.7949</td>  <td>-0.0</td>  <td>-87942029.6254</td>  <td>-66518389.9644</td>  <td>True</td> \n",
       "</tr>\n",
       "</table>"
      ],
      "text/plain": [
       "<class 'statsmodels.iolib.table.SimpleTable'>"
      ]
     },
     "execution_count": 30,
     "metadata": {},
     "output_type": "execute_result"
    }
   ],
   "source": [
    "# create df from the np filtered outliers\n",
    "df = pd.DataFrame.from_dict(groups,orient='index').stack().reset_index().rename(\n",
    "    columns={'level_0':'certification',0:'revenue'}).drop(columns='level_1')\n",
    "\n",
    "\n",
    "\n",
    "## save the values ans labels as seperate dfs\n",
    "values = df['revenue']\n",
    "labels = df['certification']\n",
    "\n",
    "## perform tukey's multiple comparison test and display the summary\n",
    "tukeys_results = pairwise_tukeyhsd(values,labels)\n",
    "tukeys_results.summary()"
   ]
  },
  {
   "cell_type": "markdown",
   "id": "299f7de0",
   "metadata": {},
   "source": [
    "From the Tukey's Pairwaise matrix above, the null Hypothesis is not rejected in all combinations. Fail to reject the null hypothesis for rating combinations of PG,G, and PG-13; also, Fail to reject for rating combinations of NR,NC-17 and R. ***Ratings PG,G and PG-13 will on average earn the most revenue***"
   ]
  },
  {
   "cell_type": "code",
   "execution_count": 31,
   "id": "c3567ea5",
   "metadata": {},
   "outputs": [
    {
     "data": {
      "image/png": "[encoded data removed]",
      "text/plain": [
       "<Figure size 720x432 with 1 Axes>"
      ]
     },
     "metadata": {
      "needs_background": "light"
     },
     "output_type": "display_data"
    }
   ],
   "source": [
    "tukeys_results.plot_simultaneous();\n"
   ]
  },
  {
   "cell_type": "code",
   "execution_count": 32,
   "id": "84dd93f4",
   "metadata": {},
   "outputs": [
    {
     "data": {
      "image/png": "[encoded data removed]",
      "text/plain": [
       "<Figure size 720x432 with 2 Axes>"
      ]
     },
     "metadata": {
      "needs_background": "light"
     },
     "output_type": "display_data"
    }
   ],
   "source": [
    "#want to view the median of the groups data\n",
    "#https://stackoverflow.com/questions/28654047/convert-columns-into-rows-with-pandas\n",
    "df = pd.DataFrame.from_dict(groups,orient='index').stack().reset_index().rename(\n",
    "    columns={'level_0':'certification',0:'revenue'}).drop(columns='level_1')\n",
    "\n",
    "fig, (ax,ax2) = plt.subplots(figsize= (10,6),ncols=2,constrained_layout=True,\n",
    "                            gridspec_kw={'width_ratios':[0.5,0.5]})\n",
    "\n",
    "\n",
    "ax = sns.barplot(data=df, x='certification',y='revenue',hue='certification'\n",
    "            ,alpha=.7 ,ci=68,dodge=False,ax=ax)\n",
    "\n",
    "ax.set_title(\"Mean Revenue by MPAA\")\n",
    "ax2.set_title(\"Movies by MPAA rating\")\n",
    "ax2 = sns.countplot(data=df, x='certification'\n",
    "                    ,hue='certification',alpha=.7 ,dodge=False,ax=ax2)\n",
    "\n",
    "\n",
    "ax.yaxis.set_major_formatter(formatter)\n"
   ]
  }
 ],
 "metadata": {
  "kernelspec": {
   "display_name": "Python (dojo-env)",
   "language": "python",
   "name": "dojo-env"
  },
  "language_info": {
   "codemirror_mode": {
    "name": "ipython",
    "version": 3
   },
   "file_extension": ".py",
   "mimetype": "text/x-python",
   "name": "python",
   "nbconvert_exporter": "python",
   "pygments_lexer": "ipython3",
   "version": "3.8.13"
  },
  "toc": {
   "base_numbering": 1,
   "nav_menu": {},
   "number_sections": true,
   "sideBar": true,
   "skip_h1_title": false,
   "title_cell": "Table of Contents",
   "title_sidebar": "Contents",
   "toc_cell": false,
   "toc_position": {
    "height": "calc(100% - 180px)",
    "left": "10px",
    "top": "150px",
    "width": "274px"
   },
   "toc_section_display": true,
   "toc_window_display": true
  }
 },
 "nbformat": 4,
 "nbformat_minor": 5
}
